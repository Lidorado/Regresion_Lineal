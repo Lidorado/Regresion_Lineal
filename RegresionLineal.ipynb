{
 "cells": [
  {
   "cell_type": "markdown",
   "id": "eab6b5b0-7ced-4603-9f6d-638e3488e6a0",
   "metadata": {},
   "source": [
    "# **Regresión Lineal**\n",
    "\n",
    "# **1. Realizar un análisis exploratorio de los datos para identificar relaciones entre variables, valores atípicos, tendencias, etc**"
   ]
  },
  {
   "cell_type": "code",
   "execution_count": 2,
   "id": "56c13815-0eb2-42ea-8bc5-fe9bf73cf99e",
   "metadata": {},
   "outputs": [],
   "source": [
    "##Importamos las librerias correspondientes para obtener un mejor analisis de datos.\n",
    "import pandas as pd\n",
    "import numpy as np\n",
    "import seaborn as sns\n",
    "import matplotlib.pyplot as plt\n",
    "\n",
    "##Importamos librerias para realizar los reportes\n",
    "from sklearn import metrics\n",
    "from sklearn.model_selection import train_test_split\n",
    "from sklearn.linear_model import LogisticRegression\n",
    "from sklearn.metrics import classification_report, confusion_matrix\n",
    "from sklearn.linear_model import LinearRegression"
   ]
  },
  {
   "cell_type": "code",
   "execution_count": 3,
   "id": "86aa3e39-16f3-47cf-8cb5-47a3a75d0764",
   "metadata": {},
   "outputs": [
    {
     "data": {
      "text/html": [
       "<div>\n",
       "<style scoped>\n",
       "    .dataframe tbody tr th:only-of-type {\n",
       "        vertical-align: middle;\n",
       "    }\n",
       "\n",
       "    .dataframe tbody tr th {\n",
       "        vertical-align: top;\n",
       "    }\n",
       "\n",
       "    .dataframe thead th {\n",
       "        text-align: right;\n",
       "    }\n",
       "</style>\n",
       "<table border=\"1\" class=\"dataframe\">\n",
       "  <thead>\n",
       "    <tr style=\"text-align: right;\">\n",
       "      <th></th>\n",
       "      <th>Car_Name</th>\n",
       "      <th>Year</th>\n",
       "      <th>Selling_Price</th>\n",
       "      <th>Present_Price</th>\n",
       "      <th>Kms_Driven</th>\n",
       "      <th>Fuel_Type</th>\n",
       "      <th>Seller_Type</th>\n",
       "      <th>Transmission</th>\n",
       "      <th>Owner</th>\n",
       "    </tr>\n",
       "  </thead>\n",
       "  <tbody>\n",
       "    <tr>\n",
       "      <th>0</th>\n",
       "      <td>ritz</td>\n",
       "      <td>2014</td>\n",
       "      <td>3.35</td>\n",
       "      <td>5.59</td>\n",
       "      <td>27000</td>\n",
       "      <td>Petrol</td>\n",
       "      <td>Dealer</td>\n",
       "      <td>Manual</td>\n",
       "      <td>0</td>\n",
       "    </tr>\n",
       "    <tr>\n",
       "      <th>1</th>\n",
       "      <td>sx4</td>\n",
       "      <td>2013</td>\n",
       "      <td>4.75</td>\n",
       "      <td>9.54</td>\n",
       "      <td>43000</td>\n",
       "      <td>Diesel</td>\n",
       "      <td>Dealer</td>\n",
       "      <td>Manual</td>\n",
       "      <td>0</td>\n",
       "    </tr>\n",
       "    <tr>\n",
       "      <th>2</th>\n",
       "      <td>ciaz</td>\n",
       "      <td>2017</td>\n",
       "      <td>7.25</td>\n",
       "      <td>9.85</td>\n",
       "      <td>6900</td>\n",
       "      <td>Petrol</td>\n",
       "      <td>Dealer</td>\n",
       "      <td>Manual</td>\n",
       "      <td>0</td>\n",
       "    </tr>\n",
       "    <tr>\n",
       "      <th>3</th>\n",
       "      <td>wagon r</td>\n",
       "      <td>2011</td>\n",
       "      <td>2.85</td>\n",
       "      <td>4.15</td>\n",
       "      <td>5200</td>\n",
       "      <td>Petrol</td>\n",
       "      <td>Dealer</td>\n",
       "      <td>Manual</td>\n",
       "      <td>0</td>\n",
       "    </tr>\n",
       "    <tr>\n",
       "      <th>4</th>\n",
       "      <td>swift</td>\n",
       "      <td>2014</td>\n",
       "      <td>4.60</td>\n",
       "      <td>6.87</td>\n",
       "      <td>42450</td>\n",
       "      <td>Diesel</td>\n",
       "      <td>Dealer</td>\n",
       "      <td>Manual</td>\n",
       "      <td>0</td>\n",
       "    </tr>\n",
       "    <tr>\n",
       "      <th>5</th>\n",
       "      <td>vitara brezza</td>\n",
       "      <td>2018</td>\n",
       "      <td>9.25</td>\n",
       "      <td>9.83</td>\n",
       "      <td>2071</td>\n",
       "      <td>Diesel</td>\n",
       "      <td>Dealer</td>\n",
       "      <td>Manual</td>\n",
       "      <td>0</td>\n",
       "    </tr>\n",
       "    <tr>\n",
       "      <th>6</th>\n",
       "      <td>ciaz</td>\n",
       "      <td>2015</td>\n",
       "      <td>6.75</td>\n",
       "      <td>8.12</td>\n",
       "      <td>18796</td>\n",
       "      <td>Petrol</td>\n",
       "      <td>Dealer</td>\n",
       "      <td>Manual</td>\n",
       "      <td>0</td>\n",
       "    </tr>\n",
       "    <tr>\n",
       "      <th>7</th>\n",
       "      <td>s cross</td>\n",
       "      <td>2015</td>\n",
       "      <td>6.50</td>\n",
       "      <td>8.61</td>\n",
       "      <td>33429</td>\n",
       "      <td>Diesel</td>\n",
       "      <td>Dealer</td>\n",
       "      <td>Manual</td>\n",
       "      <td>0</td>\n",
       "    </tr>\n",
       "    <tr>\n",
       "      <th>8</th>\n",
       "      <td>ciaz</td>\n",
       "      <td>2016</td>\n",
       "      <td>8.75</td>\n",
       "      <td>8.89</td>\n",
       "      <td>20273</td>\n",
       "      <td>Diesel</td>\n",
       "      <td>Dealer</td>\n",
       "      <td>Manual</td>\n",
       "      <td>0</td>\n",
       "    </tr>\n",
       "    <tr>\n",
       "      <th>9</th>\n",
       "      <td>ciaz</td>\n",
       "      <td>2015</td>\n",
       "      <td>7.45</td>\n",
       "      <td>8.92</td>\n",
       "      <td>42367</td>\n",
       "      <td>Diesel</td>\n",
       "      <td>Dealer</td>\n",
       "      <td>Manual</td>\n",
       "      <td>0</td>\n",
       "    </tr>\n",
       "    <tr>\n",
       "      <th>10</th>\n",
       "      <td>alto 800</td>\n",
       "      <td>2017</td>\n",
       "      <td>2.85</td>\n",
       "      <td>3.60</td>\n",
       "      <td>2135</td>\n",
       "      <td>Petrol</td>\n",
       "      <td>Dealer</td>\n",
       "      <td>Manual</td>\n",
       "      <td>0</td>\n",
       "    </tr>\n",
       "    <tr>\n",
       "      <th>11</th>\n",
       "      <td>ciaz</td>\n",
       "      <td>2015</td>\n",
       "      <td>6.85</td>\n",
       "      <td>10.38</td>\n",
       "      <td>51000</td>\n",
       "      <td>Diesel</td>\n",
       "      <td>Dealer</td>\n",
       "      <td>Manual</td>\n",
       "      <td>0</td>\n",
       "    </tr>\n",
       "    <tr>\n",
       "      <th>12</th>\n",
       "      <td>ciaz</td>\n",
       "      <td>2015</td>\n",
       "      <td>7.50</td>\n",
       "      <td>9.94</td>\n",
       "      <td>15000</td>\n",
       "      <td>Petrol</td>\n",
       "      <td>Dealer</td>\n",
       "      <td>Automatic</td>\n",
       "      <td>0</td>\n",
       "    </tr>\n",
       "    <tr>\n",
       "      <th>13</th>\n",
       "      <td>ertiga</td>\n",
       "      <td>2015</td>\n",
       "      <td>6.10</td>\n",
       "      <td>7.71</td>\n",
       "      <td>26000</td>\n",
       "      <td>Petrol</td>\n",
       "      <td>Dealer</td>\n",
       "      <td>Manual</td>\n",
       "      <td>0</td>\n",
       "    </tr>\n",
       "    <tr>\n",
       "      <th>14</th>\n",
       "      <td>dzire</td>\n",
       "      <td>2009</td>\n",
       "      <td>2.25</td>\n",
       "      <td>7.21</td>\n",
       "      <td>77427</td>\n",
       "      <td>Petrol</td>\n",
       "      <td>Dealer</td>\n",
       "      <td>Manual</td>\n",
       "      <td>0</td>\n",
       "    </tr>\n",
       "    <tr>\n",
       "      <th>15</th>\n",
       "      <td>ertiga</td>\n",
       "      <td>2016</td>\n",
       "      <td>7.75</td>\n",
       "      <td>10.79</td>\n",
       "      <td>43000</td>\n",
       "      <td>Diesel</td>\n",
       "      <td>Dealer</td>\n",
       "      <td>Manual</td>\n",
       "      <td>0</td>\n",
       "    </tr>\n",
       "    <tr>\n",
       "      <th>16</th>\n",
       "      <td>ertiga</td>\n",
       "      <td>2015</td>\n",
       "      <td>7.25</td>\n",
       "      <td>10.79</td>\n",
       "      <td>41678</td>\n",
       "      <td>Diesel</td>\n",
       "      <td>Dealer</td>\n",
       "      <td>Manual</td>\n",
       "      <td>0</td>\n",
       "    </tr>\n",
       "    <tr>\n",
       "      <th>17</th>\n",
       "      <td>ertiga</td>\n",
       "      <td>2016</td>\n",
       "      <td>7.75</td>\n",
       "      <td>10.79</td>\n",
       "      <td>43000</td>\n",
       "      <td>Diesel</td>\n",
       "      <td>Dealer</td>\n",
       "      <td>Manual</td>\n",
       "      <td>0</td>\n",
       "    </tr>\n",
       "    <tr>\n",
       "      <th>18</th>\n",
       "      <td>wagon r</td>\n",
       "      <td>2015</td>\n",
       "      <td>3.25</td>\n",
       "      <td>5.09</td>\n",
       "      <td>35500</td>\n",
       "      <td>CNG</td>\n",
       "      <td>Dealer</td>\n",
       "      <td>Manual</td>\n",
       "      <td>0</td>\n",
       "    </tr>\n",
       "    <tr>\n",
       "      <th>19</th>\n",
       "      <td>sx4</td>\n",
       "      <td>2010</td>\n",
       "      <td>2.65</td>\n",
       "      <td>7.98</td>\n",
       "      <td>41442</td>\n",
       "      <td>Petrol</td>\n",
       "      <td>Dealer</td>\n",
       "      <td>Manual</td>\n",
       "      <td>0</td>\n",
       "    </tr>\n",
       "  </tbody>\n",
       "</table>\n",
       "</div>"
      ],
      "text/plain": [
       "         Car_Name  Year  Selling_Price  Present_Price  Kms_Driven Fuel_Type  \\\n",
       "0            ritz  2014           3.35           5.59       27000    Petrol   \n",
       "1             sx4  2013           4.75           9.54       43000    Diesel   \n",
       "2            ciaz  2017           7.25           9.85        6900    Petrol   \n",
       "3         wagon r  2011           2.85           4.15        5200    Petrol   \n",
       "4           swift  2014           4.60           6.87       42450    Diesel   \n",
       "5   vitara brezza  2018           9.25           9.83        2071    Diesel   \n",
       "6            ciaz  2015           6.75           8.12       18796    Petrol   \n",
       "7         s cross  2015           6.50           8.61       33429    Diesel   \n",
       "8            ciaz  2016           8.75           8.89       20273    Diesel   \n",
       "9            ciaz  2015           7.45           8.92       42367    Diesel   \n",
       "10       alto 800  2017           2.85           3.60        2135    Petrol   \n",
       "11           ciaz  2015           6.85          10.38       51000    Diesel   \n",
       "12           ciaz  2015           7.50           9.94       15000    Petrol   \n",
       "13         ertiga  2015           6.10           7.71       26000    Petrol   \n",
       "14          dzire  2009           2.25           7.21       77427    Petrol   \n",
       "15         ertiga  2016           7.75          10.79       43000    Diesel   \n",
       "16         ertiga  2015           7.25          10.79       41678    Diesel   \n",
       "17         ertiga  2016           7.75          10.79       43000    Diesel   \n",
       "18        wagon r  2015           3.25           5.09       35500       CNG   \n",
       "19            sx4  2010           2.65           7.98       41442    Petrol   \n",
       "\n",
       "   Seller_Type Transmission  Owner  \n",
       "0       Dealer       Manual      0  \n",
       "1       Dealer       Manual      0  \n",
       "2       Dealer       Manual      0  \n",
       "3       Dealer       Manual      0  \n",
       "4       Dealer       Manual      0  \n",
       "5       Dealer       Manual      0  \n",
       "6       Dealer       Manual      0  \n",
       "7       Dealer       Manual      0  \n",
       "8       Dealer       Manual      0  \n",
       "9       Dealer       Manual      0  \n",
       "10      Dealer       Manual      0  \n",
       "11      Dealer       Manual      0  \n",
       "12      Dealer    Automatic      0  \n",
       "13      Dealer       Manual      0  \n",
       "14      Dealer       Manual      0  \n",
       "15      Dealer       Manual      0  \n",
       "16      Dealer       Manual      0  \n",
       "17      Dealer       Manual      0  \n",
       "18      Dealer       Manual      0  \n",
       "19      Dealer       Manual      0  "
      ]
     },
     "execution_count": 3,
     "metadata": {},
     "output_type": "execute_result"
    }
   ],
   "source": [
    "## cargamos el archivo para la lectura de datos\n",
    "Archivo = pd.read_csv ('C:/Users/ldorado/Downloads/Car_Data.csv')\n",
    "## Realizamos un analisis exploratorio en la cual mostramos 10 primeras filas que contiene el dataset.\n",
    "Archivo.head(20)"
   ]
  },
  {
   "cell_type": "code",
   "execution_count": 4,
   "id": "26710902-e1d2-4fdb-b8dd-d20b31974f45",
   "metadata": {},
   "outputs": [
    {
     "data": {
      "text/plain": [
       "(301, 9)"
      ]
     },
     "execution_count": 4,
     "metadata": {},
     "output_type": "execute_result"
    }
   ],
   "source": [
    "## identificamos la cantidad de registros que tiene el archivo (filas y columnas)\n",
    "Archivo.shape"
   ]
  },
  {
   "cell_type": "code",
   "execution_count": 16,
   "id": "3e2420c7-4d64-4cb5-9b76-07ca2d220f3d",
   "metadata": {},
   "outputs": [],
   "source": [
    "## Eliminamos las siguientes columnas porque contienen valores categoricos las cual no permite realizar la regresion lineal\n",
    "Archivo = Archivo.drop(['Car_Name' , 'Year' , 'Kms_Driven' , 'Fuel_Type' , 'Seller_Type' , 'Transmission'], axis=1)"
   ]
  },
  {
   "cell_type": "code",
   "execution_count": 17,
   "id": "8896d371-2ce6-426b-b9b2-bce34bac3378",
   "metadata": {},
   "outputs": [
    {
     "data": {
      "text/html": [
       "<div>\n",
       "<style scoped>\n",
       "    .dataframe tbody tr th:only-of-type {\n",
       "        vertical-align: middle;\n",
       "    }\n",
       "\n",
       "    .dataframe tbody tr th {\n",
       "        vertical-align: top;\n",
       "    }\n",
       "\n",
       "    .dataframe thead th {\n",
       "        text-align: right;\n",
       "    }\n",
       "</style>\n",
       "<table border=\"1\" class=\"dataframe\">\n",
       "  <thead>\n",
       "    <tr style=\"text-align: right;\">\n",
       "      <th></th>\n",
       "      <th>Selling_Price</th>\n",
       "      <th>Present_Price</th>\n",
       "      <th>Owner</th>\n",
       "    </tr>\n",
       "  </thead>\n",
       "  <tbody>\n",
       "    <tr>\n",
       "      <th>0</th>\n",
       "      <td>3.35</td>\n",
       "      <td>5.59</td>\n",
       "      <td>0</td>\n",
       "    </tr>\n",
       "    <tr>\n",
       "      <th>1</th>\n",
       "      <td>4.75</td>\n",
       "      <td>9.54</td>\n",
       "      <td>0</td>\n",
       "    </tr>\n",
       "    <tr>\n",
       "      <th>2</th>\n",
       "      <td>7.25</td>\n",
       "      <td>9.85</td>\n",
       "      <td>0</td>\n",
       "    </tr>\n",
       "    <tr>\n",
       "      <th>3</th>\n",
       "      <td>2.85</td>\n",
       "      <td>4.15</td>\n",
       "      <td>0</td>\n",
       "    </tr>\n",
       "    <tr>\n",
       "      <th>4</th>\n",
       "      <td>4.60</td>\n",
       "      <td>6.87</td>\n",
       "      <td>0</td>\n",
       "    </tr>\n",
       "  </tbody>\n",
       "</table>\n",
       "</div>"
      ],
      "text/plain": [
       "   Selling_Price  Present_Price  Owner\n",
       "0           3.35           5.59      0\n",
       "1           4.75           9.54      0\n",
       "2           7.25           9.85      0\n",
       "3           2.85           4.15      0\n",
       "4           4.60           6.87      0"
      ]
     },
     "execution_count": 17,
     "metadata": {},
     "output_type": "execute_result"
    }
   ],
   "source": [
    "Archivo.head()"
   ]
  },
  {
   "cell_type": "code",
   "execution_count": 19,
   "id": "abbe915b-a8bb-4716-9700-1e2cf4e92225",
   "metadata": {},
   "outputs": [
    {
     "data": {
      "text/html": [
       "<div>\n",
       "<style scoped>\n",
       "    .dataframe tbody tr th:only-of-type {\n",
       "        vertical-align: middle;\n",
       "    }\n",
       "\n",
       "    .dataframe tbody tr th {\n",
       "        vertical-align: top;\n",
       "    }\n",
       "\n",
       "    .dataframe thead th {\n",
       "        text-align: right;\n",
       "    }\n",
       "</style>\n",
       "<table border=\"1\" class=\"dataframe\">\n",
       "  <thead>\n",
       "    <tr style=\"text-align: right;\">\n",
       "      <th></th>\n",
       "      <th>Selling_Price</th>\n",
       "      <th>Present_Price</th>\n",
       "      <th>Owner</th>\n",
       "    </tr>\n",
       "  </thead>\n",
       "  <tbody>\n",
       "    <tr>\n",
       "      <th>count</th>\n",
       "      <td>301.000000</td>\n",
       "      <td>301.000000</td>\n",
       "      <td>301.000000</td>\n",
       "    </tr>\n",
       "    <tr>\n",
       "      <th>mean</th>\n",
       "      <td>4.661296</td>\n",
       "      <td>7.628472</td>\n",
       "      <td>0.043189</td>\n",
       "    </tr>\n",
       "    <tr>\n",
       "      <th>std</th>\n",
       "      <td>5.082812</td>\n",
       "      <td>8.644115</td>\n",
       "      <td>0.247915</td>\n",
       "    </tr>\n",
       "    <tr>\n",
       "      <th>min</th>\n",
       "      <td>0.100000</td>\n",
       "      <td>0.320000</td>\n",
       "      <td>0.000000</td>\n",
       "    </tr>\n",
       "    <tr>\n",
       "      <th>25%</th>\n",
       "      <td>0.900000</td>\n",
       "      <td>1.200000</td>\n",
       "      <td>0.000000</td>\n",
       "    </tr>\n",
       "    <tr>\n",
       "      <th>50%</th>\n",
       "      <td>3.600000</td>\n",
       "      <td>6.400000</td>\n",
       "      <td>0.000000</td>\n",
       "    </tr>\n",
       "    <tr>\n",
       "      <th>75%</th>\n",
       "      <td>6.000000</td>\n",
       "      <td>9.900000</td>\n",
       "      <td>0.000000</td>\n",
       "    </tr>\n",
       "    <tr>\n",
       "      <th>max</th>\n",
       "      <td>35.000000</td>\n",
       "      <td>92.600000</td>\n",
       "      <td>3.000000</td>\n",
       "    </tr>\n",
       "  </tbody>\n",
       "</table>\n",
       "</div>"
      ],
      "text/plain": [
       "       Selling_Price  Present_Price       Owner\n",
       "count     301.000000     301.000000  301.000000\n",
       "mean        4.661296       7.628472    0.043189\n",
       "std         5.082812       8.644115    0.247915\n",
       "min         0.100000       0.320000    0.000000\n",
       "25%         0.900000       1.200000    0.000000\n",
       "50%         3.600000       6.400000    0.000000\n",
       "75%         6.000000       9.900000    0.000000\n",
       "max        35.000000      92.600000    3.000000"
      ]
     },
     "execution_count": 19,
     "metadata": {},
     "output_type": "execute_result"
    }
   ],
   "source": [
    "Archivo.describe()"
   ]
  },
  {
   "cell_type": "code",
   "execution_count": 20,
   "id": "f5b54ce8-d8e1-4685-a654-ac4f9f79449b",
   "metadata": {},
   "outputs": [
    {
     "data": {
      "text/plain": [
       "Text(0.5, 1.0, 'Valores faltantes y Atipicos')"
      ]
     },
     "execution_count": 20,
     "metadata": {},
     "output_type": "execute_result"
    },
    {
     "data": {
      "image/png": "[encoded data removed]",
      "text/plain": [
       "<Figure size 600x300 with 1 Axes>"
      ]
     },
     "metadata": {},
     "output_type": "display_data"
    }
   ],
   "source": [
    "## Datos faltantes y Atipicos\n",
    "plt.figure(figsize=(6,3))\n",
    "sns.boxplot(x=Archivo['Selling_Price'])\n",
    "plt.title( 'Valores faltantes y Atipicos', fontsize=10)"
   ]
  },
  {
   "cell_type": "code",
   "execution_count": 21,
   "id": "ac466bbf-e603-4d9b-b2c5-73e7ac98a0b4",
   "metadata": {},
   "outputs": [
    {
     "data": {
      "text/plain": [
       "Text(0.5, 1.0, 'Valores faltantes y Atipicos')"
      ]
     },
     "execution_count": 21,
     "metadata": {},
     "output_type": "execute_result"
    },
    {
     "data": {
      "image/png": "[encoded data removed]",
      "text/plain": [
       "<Figure size 600x300 with 1 Axes>"
      ]
     },
     "metadata": {},
     "output_type": "display_data"
    }
   ],
   "source": [
    "## Datos faltantes y Atipicos\n",
    "plt.figure(figsize=(6,3))\n",
    "sns.boxplot(x=Archivo['Owner'])\n",
    "plt.title( 'Valores faltantes y Atipicos', fontsize=10)"
   ]
  },
  {
   "cell_type": "code",
   "execution_count": 22,
   "id": "2c10fa93-0fd5-465f-8a27-fc8d928360fc",
   "metadata": {},
   "outputs": [
    {
     "data": {
      "text/plain": [
       "Text(0.5, 1.0, 'Valores faltantes y Atipicos')"
      ]
     },
     "execution_count": 22,
     "metadata": {},
     "output_type": "execute_result"
    },
    {
     "data": {
      "image/png": "[encoded data removed]",
      "text/plain": [
       "<Figure size 600x300 with 1 Axes>"
      ]
     },
     "metadata": {},
     "output_type": "display_data"
    }
   ],
   "source": [
    "## Datos faltantes y Atipicos\n",
    "plt.figure(figsize=(6,3))\n",
    "sns.boxplot(x=Archivo['Present_Price'])\n",
    "plt.title( 'Valores faltantes y Atipicos', fontsize=10)"
   ]
  },
  {
   "cell_type": "markdown",
   "id": "05d356ea-6833-4158-9778-18e9c1b58a6d",
   "metadata": {},
   "source": [
    "# **2. Preprocesar los datos limpiándolos, tratando valores faltantes y transformándolos según sea necesario**"
   ]
  },
  {
   "cell_type": "code",
   "execution_count": 23,
   "id": "d28096b8-64ef-4b89-80b6-752727b044ab",
   "metadata": {},
   "outputs": [
    {
     "name": "stdout",
     "output_type": "stream",
     "text": [
      "cantidad de valores con cero en Selling_Price: 0\n",
      "cantidad de valores con cero en Present_Price: 0\n",
      "cantidad de valores con cero en Owner: 290\n"
     ]
    }
   ],
   "source": [
    "## revision de valores faltantes\n",
    "\n",
    "print(\"cantidad de valores con cero en Selling_Price:\",Archivo['Selling_Price'].isin([0]).sum())\n",
    "print(\"cantidad de valores con cero en Present_Price:\",Archivo['Present_Price'].isin([0]).sum())\n",
    "print(\"cantidad de valores con cero en Owner:\",Archivo['Owner'].isin([0]).sum())"
   ]
  },
  {
   "cell_type": "code",
   "execution_count": 24,
   "id": "b1e499be-fce5-4ed0-8c81-e201859f187e",
   "metadata": {},
   "outputs": [
    {
     "data": {
      "text/plain": [
       "Text(0.5, 1.0, 'identificacion de valores Atipicos')"
      ]
     },
     "execution_count": 24,
     "metadata": {},
     "output_type": "execute_result"
    },
    {
     "data": {
      "image/png": "[encoded data removed]",
      "text/plain": [
       "<Figure size 600x300 with 1 Axes>"
      ]
     },
     "metadata": {},
     "output_type": "display_data"
    }
   ],
   "source": [
    "## Datos faltantes y Atipicos\n",
    "plt.figure(figsize=(6,3))\n",
    "sns.boxplot(x=Archivo['Present_Price'])\n",
    "plt.title( 'identificacion de valores Atipicos', fontsize=10)"
   ]
  },
  {
   "cell_type": "markdown",
   "id": "44398f90-6e33-4236-b24d-7dc1715df530",
   "metadata": {},
   "source": [
    "# **3.Seleccionar las características más relevantes para entrenar el modelo utilizando selección de características.**"
   ]
  },
  {
   "cell_type": "code",
   "execution_count": 25,
   "id": "2af4699a-11c2-4aaf-9208-225b748d08b7",
   "metadata": {},
   "outputs": [
    {
     "data": {
      "text/plain": [
       "Present_Price\n",
       "9.40     15\n",
       "13.60    13\n",
       "5.70      8\n",
       "4.43      7\n",
       "1.47      7\n",
       "         ..\n",
       "18.54     1\n",
       "7.27      1\n",
       "15.04     1\n",
       "10.21     1\n",
       "12.50     1\n",
       "Name: count, Length: 147, dtype: int64"
      ]
     },
     "execution_count": 25,
     "metadata": {},
     "output_type": "execute_result"
    }
   ],
   "source": [
    "## Caracteristicas de interes Present_Price\n",
    "Archivo ['Present_Price'].value_counts()"
   ]
  },
  {
   "cell_type": "markdown",
   "id": "4529b199-f536-47bc-8ec6-bbb83c977a14",
   "metadata": {},
   "source": [
    "# **4. Dividir el dataset en train y test para evaluar correctamente el modelo**"
   ]
  },
  {
   "cell_type": "code",
   "execution_count": 26,
   "id": "936e3cbe-7d28-484d-a7ce-446db7739de0",
   "metadata": {},
   "outputs": [],
   "source": [
    "## Creamos las variables\n",
    "X = Archivo.drop('Present_Price',axis=1)\n",
    "Y = Archivo['Present_Price']\n",
    "\n",
    "X_train, X_test, Y_train, Y_test = train_test_split(X, Y, test_size=0.25,random_state= 0)"
   ]
  },
  {
   "cell_type": "code",
   "execution_count": 27,
   "id": "884e63db-8cbc-4f94-9962-616a4e62febd",
   "metadata": {},
   "outputs": [
    {
     "name": "stdout",
     "output_type": "stream",
     "text": [
      "     Selling_Price  Owner\n",
      "146           0.55      0\n",
      "260           9.15      0\n",
      "37            0.35      0\n",
      "273           2.25      0\n",
      "164           0.45      0\n",
      "..             ...    ...\n",
      "251           5.00      0\n",
      "192           0.20      1\n",
      "117           1.10      0\n",
      "47            1.05      0\n",
      "172           0.40      0\n",
      "\n",
      "[225 rows x 2 columns]\n"
     ]
    }
   ],
   "source": [
    "print(X_train)"
   ]
  },
  {
   "cell_type": "code",
   "execution_count": 28,
   "id": "6ec10f57-8c05-4096-b608-915ab0528147",
   "metadata": {},
   "outputs": [
    {
     "name": "stdout",
     "output_type": "stream",
     "text": [
      "     Selling_Price  Owner\n",
      "223           8.25      0\n",
      "150           0.50      0\n",
      "226           5.25      0\n",
      "296           9.50      0\n",
      "52           18.00      0\n",
      "..             ...    ...\n",
      "46            2.65      0\n",
      "158           0.48      0\n",
      "230           6.15      0\n",
      "179           0.31      0\n",
      "27            6.00      0\n",
      "\n",
      "[76 rows x 2 columns]\n"
     ]
    }
   ],
   "source": [
    "print(X_test)"
   ]
  },
  {
   "cell_type": "markdown",
   "id": "00286082-7913-4b91-8706-456bade7fe36",
   "metadata": {},
   "source": [
    "# **5. Entrenar el modelo configurando los diferentes hiperparametros**"
   ]
  },
  {
   "cell_type": "code",
   "execution_count": 32,
   "id": "824ed1be-0faa-4ab2-bee5-953be24b6f64",
   "metadata": {},
   "outputs": [],
   "source": [
    "Regresion_lineal=LinearRegression()\n",
    "Regresion_lineal.fit (X_train , Y_train)\n",
    "\n",
    "prediccion = Regresion_lineal.predict(X_test)      "
   ]
  },
  {
   "cell_type": "code",
   "execution_count": 33,
   "id": "8d5cbc78-1b5a-49fe-ab9f-6ce53da093ba",
   "metadata": {},
   "outputs": [
    {
     "data": {
      "text/html": [
       "<div>\n",
       "<style scoped>\n",
       "    .dataframe tbody tr th:only-of-type {\n",
       "        vertical-align: middle;\n",
       "    }\n",
       "\n",
       "    .dataframe tbody tr th {\n",
       "        vertical-align: top;\n",
       "    }\n",
       "\n",
       "    .dataframe thead th {\n",
       "        text-align: right;\n",
       "    }\n",
       "</style>\n",
       "<table border=\"1\" class=\"dataframe\">\n",
       "  <thead>\n",
       "    <tr style=\"text-align: right;\">\n",
       "      <th></th>\n",
       "      <th>Selling_Price</th>\n",
       "      <th>Owner</th>\n",
       "    </tr>\n",
       "  </thead>\n",
       "  <tbody>\n",
       "    <tr>\n",
       "      <th>223</th>\n",
       "      <td>8.25</td>\n",
       "      <td>0</td>\n",
       "    </tr>\n",
       "    <tr>\n",
       "      <th>150</th>\n",
       "      <td>0.50</td>\n",
       "      <td>0</td>\n",
       "    </tr>\n",
       "    <tr>\n",
       "      <th>226</th>\n",
       "      <td>5.25</td>\n",
       "      <td>0</td>\n",
       "    </tr>\n",
       "    <tr>\n",
       "      <th>296</th>\n",
       "      <td>9.50</td>\n",
       "      <td>0</td>\n",
       "    </tr>\n",
       "    <tr>\n",
       "      <th>52</th>\n",
       "      <td>18.00</td>\n",
       "      <td>0</td>\n",
       "    </tr>\n",
       "    <tr>\n",
       "      <th>261</th>\n",
       "      <td>5.50</td>\n",
       "      <td>0</td>\n",
       "    </tr>\n",
       "    <tr>\n",
       "      <th>246</th>\n",
       "      <td>3.75</td>\n",
       "      <td>0</td>\n",
       "    </tr>\n",
       "    <tr>\n",
       "      <th>166</th>\n",
       "      <td>0.45</td>\n",
       "      <td>0</td>\n",
       "    </tr>\n",
       "    <tr>\n",
       "      <th>221</th>\n",
       "      <td>4.50</td>\n",
       "      <td>0</td>\n",
       "    </tr>\n",
       "    <tr>\n",
       "      <th>215</th>\n",
       "      <td>4.50</td>\n",
       "      <td>0</td>\n",
       "    </tr>\n",
       "  </tbody>\n",
       "</table>\n",
       "</div>"
      ],
      "text/plain": [
       "     Selling_Price  Owner\n",
       "223           8.25      0\n",
       "150           0.50      0\n",
       "226           5.25      0\n",
       "296           9.50      0\n",
       "52           18.00      0\n",
       "261           5.50      0\n",
       "246           3.75      0\n",
       "166           0.45      0\n",
       "221           4.50      0\n",
       "215           4.50      0"
      ]
     },
     "execution_count": 33,
     "metadata": {},
     "output_type": "execute_result"
    }
   ],
   "source": [
    "X_test.head(10)"
   ]
  },
  {
   "cell_type": "code",
   "execution_count": 38,
   "id": "b9762891-d14b-4d81-b432-d3bdb02bda7d",
   "metadata": {},
   "outputs": [
    {
     "name": "stdout",
     "output_type": "stream",
     "text": [
      "[13.65842171  0.88961005  8.71565591 15.71790746 29.72241058  9.12755306\n",
      "  6.244273    0.80723062  7.47996446  7.47996446  4.51430497  1.25207954\n",
      "  8.71565591 12.42273026 12.83462741 32.60569063 12.2579714   7.89186161\n",
      "  0.64247176  2.86671637  7.31520559 12.97678125  8.4849935  18.60118752\n",
      "  0.39533347  1.35093486  0.69189942  1.13674834  0.88961005  5.99713471\n",
      "  9.68160404 11.92845368  1.05436891 14.48221601  5.00858155  1.96054264\n",
      " 10.93990052  7.89186161  4.73883824 13.65842171 15.30601031 33.00111189\n",
      "  9.12755306 12.15298695  9.12755306 21.31970871  0.56009233  1.79578378\n",
      "  8.71565591 10.77514166 12.42273026  4.84382269  7.97424104 38.78414788\n",
      "  2.04292207  1.87816321  1.13674834  4.26716668  6.90330844  6.5511857\n",
      "  5.84885174  8.1389999   3.36099295 54.4362396   6.244273    9.37469135\n",
      " 14.15269829  6.32665243  0.72485119  4.43192554  4.76144326  4.43192554\n",
      "  0.85665828 10.19848565  0.57656821  9.95134736]\n"
     ]
    }
   ],
   "source": [
    "print(prediccion)"
   ]
  },
  {
   "cell_type": "markdown",
   "id": "9e55caed-43ee-4ffc-bf6e-7697218ca549",
   "metadata": {},
   "source": [
    "# **6. Evaluar el desempeño del modelo en el conjunto de Test con metricas como precision,recall,f1-scorw,etc**"
   ]
  },
  {
   "cell_type": "code",
   "execution_count": 46,
   "id": "40cf4233-fb2c-4030-bb10-17d18a8af460",
   "metadata": {},
   "outputs": [
    {
     "data": {
      "image/png": "[encoded data removed]",
      "text/plain": [
       "<Figure size 800x500 with 1 Axes>"
      ]
     },
     "metadata": {},
     "output_type": "display_data"
    }
   ],
   "source": [
    "## Evaluamos el modelo\n",
    "\n",
    "plt.figure(figsize=(8,5))\n",
    "plt.scatter(Y_test,prediccion,color='red',edgecolors='k', alpha=0.7)\n",
    "plt.plot([Y_test.min(),Y_test.max()], [Y_test.min(), Y_test.max()], 'r--', lw=2)\n",
    "plt.xlabel('Precio Actual')\n",
    "plt.ylabel('Precio predicho')         \n",
    "plt.title('Regresion Lineal')        \n",
    "plt.grid(True)\n",
    "plt.tight_layout() \n",
    "plt.show()\n",
    "         "
   ]
  },
  {
   "cell_type": "markdown",
   "id": "56b0e763-89db-42eb-bdc1-2a56ba24b457",
   "metadata": {},
   "source": [
    "Interpretar, analizar y documentar los resultados obtenidos.\n",
    "\n",
    "De acuerdo con el dataset Vehicle se importo las Librerias correspondientes y se identifico con la siguiente línea de código Archivo.shape la cantidad de columnas y filas (301,9).\n",
    "\n",
    "- Se elimino algunas columnas con el siguiente codigo (Archivo = Archivo.drop) ya que tenía registros categóricos y en regresión lineal no se podía utilizar estos valores para e analisis de datos.\n",
    "\n",
    "- Se valido los datos faltantes y atípicos  de cada variable \n",
    "\n",
    "- al final se realizo un modelo de regresión lineal del precio predicho y precio actual de la variable objetiva \"Selling_Price\"  \n"
   ]
  },
  {
   "cell_type": "code",
   "execution_count": null,
   "id": "a9cb4053-335b-4517-a777-17a9d48d29a2",
   "metadata": {},
   "outputs": [],
   "source": []
  }
 ],
 "metadata": {
  "kernelspec": {
   "display_name": "Python 3 (ipykernel)",
   "language": "python",
   "name": "python3"
  },
  "language_info": {
   "codemirror_mode": {
    "name": "ipython",
    "version": 3
   },
   "file_extension": ".py",
   "mimetype": "text/x-python",
   "name": "python",
   "nbconvert_exporter": "python",
   "pygments_lexer": "ipython3",
   "version": "3.12.7"
  }
 },
 "nbformat": 4,
 "nbformat_minor": 5
}
